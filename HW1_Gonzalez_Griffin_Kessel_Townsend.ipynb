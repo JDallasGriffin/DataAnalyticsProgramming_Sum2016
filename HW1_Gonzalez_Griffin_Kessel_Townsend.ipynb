{
 "cells": [
  {
   "cell_type": "markdown",
   "metadata": {
    "slideshow": {
     "slide_type": "slide"
    }
   },
   "source": [
    "# MIS 381 - Assignment 1 - Group 7\n",
    "#### Group Members: Davis Townsend, Esteban Gonzalez, Sean Kessel, Dallas Griffin"
   ]
  },
  {
   "cell_type": "markdown",
   "metadata": {
    "slideshow": {
     "slide_type": "slide"
    }
   },
   "source": [
    "### Problem 1 - Rock Paper Scissors\n",
    "\n",
    "##### Approach: **DEFINE APPROACH**"
   ]
  },
  {
   "cell_type": "code",
   "execution_count": 30,
   "metadata": {
    "collapsed": true
   },
   "outputs": [],
   "source": [
    "def human_choice():\n",
    "    \"\"\"ADD ANNOTATION\"\"\"\n",
    "    choice = str(raw_input(\"Please type your choice of Rock, Paper, Scissors or Quit: \"))\n",
    "    cl = choice.lower()\n",
    "    while cl != \"rock\" and cl!= \"paper\" and cl!= \"scissors\" and cl!= \"quit\":\n",
    "        choice = str(raw_input(\"Please type your choice of Rock, Paper, Scissors or Quit: \"))\n",
    "        cl = choice.lower()\n",
    "    return cl"
   ]
  },
  {
   "cell_type": "code",
   "execution_count": 31,
   "metadata": {
    "collapsed": true
   },
   "outputs": [],
   "source": [
    "def most_common(past):\n",
    "    \"\"\"ADD ANNOTATION\"\"\"\n",
    "    if len(past)==0:\n",
    "        return \"first\"\n",
    "    else:\n",
    "        rock_count = 0\n",
    "        paper_count = 0\n",
    "        scissors_count = 0\n",
    "        for i in past:\n",
    "            if i == \"rock\":\n",
    "                rock_count += 1\n",
    "            elif i == \"paper\":\n",
    "                paper_count += 1\n",
    "            elif i == \"scissors\":\n",
    "                scissors_count += 1\n",
    "        st = []\n",
    "        if rock_count >= scissors_count and rock_count >= paper_count :\n",
    "            st.append(\"rock\")\n",
    "        if paper_count >= scissors_count and rock_count <= paper_count:\n",
    "            st.append(\"paper\")\n",
    "        if scissors_count >= rock_count and scissors_count >= paper_count:\n",
    "            st.append(\"scissors\")\n",
    "        return st"
   ]
  },
  {
   "cell_type": "code",
   "execution_count": 32,
   "metadata": {
    "collapsed": true
   },
   "outputs": [],
   "source": [
    "import random\n",
    "def computer_choice(past):\n",
    "    \"\"\"ADD ANNOTATION\"\"\"\n",
    "    common = most_common(past)\n",
    "    choices = [\"rock\",\"paper\",\"scissors\"]\n",
    "    if len(common) == 1:\n",
    "        if common[0] == \"first\":\n",
    "            t = random.randint(0,2)\n",
    "            return choices[t]\n",
    "        else:\n",
    "            c = common[0]\n",
    "            if c == \"paper\":\n",
    "                return \"scissors\"\n",
    "            elif c == \"rock\":\n",
    "                return \"paper\"\n",
    "            elif c == \"scissors\":\n",
    "                return \"rock\"\n",
    "    else:\n",
    "        y = len(common)\n",
    "        x = random.randint(0,y-1)\n",
    "        c = common[x]\n",
    "        if c == \"paper\":\n",
    "            return \"scissors\"\n",
    "        elif c == \"rock\":\n",
    "            return \"paper\"\n",
    "        elif c == \"scissors\":\n",
    "            return \"rock\""
   ]
  },
  {
   "cell_type": "code",
   "execution_count": 33,
   "metadata": {
    "collapsed": true
   },
   "outputs": [],
   "source": [
    "def compare(human,computer):\n",
    "    \"\"\"This function compares the human and computer inputs, returns 2 for a draw, \n",
    "1 if the human wins, and 0 if the computer wins\"\"\"\n",
    "    if human == \"rock\":\n",
    "        if computer == \"paper\":\n",
    "            return 0 \n",
    "        elif computer == \"rock\":\n",
    "            return 2\n",
    "        elif computer == \"scissors\":\n",
    "            return 1\n",
    "    elif human == \"paper\":\n",
    "        if computer == \"paper\":\n",
    "            return 2 \n",
    "        elif computer == \"rock\":\n",
    "            return 1\n",
    "        elif computer == \"scissors\":\n",
    "            return 0\n",
    "    elif human == \"scissors\":\n",
    "        if computer == \"paper\":\n",
    "            return 1 \n",
    "        elif computer == \"rock\":\n",
    "            return 0\n",
    "        elif computer == \"scissors\":\n",
    "            return 2"
   ]
  },
  {
   "cell_type": "code",
   "execution_count": 34,
   "metadata": {
    "collapsed": true
   },
   "outputs": [],
   "source": [
    "def lets_play():\n",
    "    \"\"\"ADD ANNOTATION\"\"\"\n",
    "    past_human_choices =[]\n",
    "    games_played = 0\n",
    "    human_wins = 0\n",
    "    while True:\n",
    "        human = human_choice()\n",
    "        if human == \"quit\":\n",
    "            print \"You played \", games_played, \" games\"\n",
    "            print \"You won \", human_wins, \" games\"\n",
    "            break\n",
    "        else:\n",
    "            games_played += 1\n",
    "            past_human_choices.append(human)\n",
    "            computer = computer_choice(past_human_choices)\n",
    "            y = compare(human, computer)\n",
    "            print \"The computer chose \", computer\n",
    "            if y == 1:\n",
    "                human_wins += 1\n",
    "                print \"You win!\"\n",
    "            elif y == 0:\n",
    "                print \"You lose...\"\n",
    "            elif y ==2:\n",
    "                print \"It seems we have a draw\""
   ]
  },
  {
   "cell_type": "code",
   "execution_count": 35,
   "metadata": {
    "collapsed": false,
    "scrolled": true
   },
   "outputs": [
    {
     "name": "stdout",
     "output_type": "stream",
     "text": [
      "Please type your choice of Rock, Paper, Scissors or Quit: rock\n",
      "The computer chose  paper\n",
      "You lose...\n",
      "Please type your choice of Rock, Paper, Scissors or Quit: rock\n",
      "The computer chose  paper\n",
      "You lose...\n",
      "Please type your choice of Rock, Paper, Scissors or Quit: paper\n",
      "The computer chose  paper\n",
      "It seems we have a draw\n",
      "Please type your choice of Rock, Paper, Scissors or Quit: scissors\n",
      "The computer chose  paper\n",
      "You win!\n",
      "Please type your choice of Rock, Paper, Scissors or Quit: rock\n",
      "The computer chose  paper\n",
      "You lose...\n",
      "Please type your choice of Rock, Paper, Scissors or Quit: paper\n",
      "The computer chose  paper\n",
      "It seems we have a draw\n",
      "Please type your choice of Rock, Paper, Scissors or Quit: rock\n",
      "The computer chose  paper\n",
      "You lose...\n",
      "Please type your choice of Rock, Paper, Scissors or Quit: quit\n",
      "You played  7  games\n",
      "You won  1  games\n"
     ]
    }
   ],
   "source": [
    "#Run Rock, Paper, Scissors Program:\n",
    "lets_play()"
   ]
  },
  {
   "cell_type": "markdown",
   "metadata": {
    "slideshow": {
     "slide_type": "slide"
    }
   },
   "source": [
    "### Problem 2 - Florida Voters\n",
    "\n",
    "##### Approach: **DEFINE APPROACH**"
   ]
  },
  {
   "cell_type": "code",
   "execution_count": 52,
   "metadata": {
    "collapsed": true
   },
   "outputs": [],
   "source": [
    "def readtxt(fil):\n",
    "    \"\"\"ADD ANNOTATION\"\"\"\n",
    "    text = fil.read()\n",
    "    lineArray = text.split(\"\\n\")\n",
    "    Masterlist = []\n",
    "    for i in range(len(lineArray)):\n",
    "        if lineArray[i] == \"<tr>\":\n",
    "            dic ={}\n",
    "            countyWithTag = lineArray[i+1]\n",
    "            countyWithoutTD = countyWithTag[4:]\n",
    "            county = countyWithoutTD[:-5]\n",
    "            \n",
    "            RepWithTag = lineArray[i+2]\n",
    "            RepWithoutTD = RepWithTag[4:]\n",
    "            Rep = RepWithoutTD[:-5]\n",
    "            \n",
    "            DWT = lineArray[i+3]\n",
    "            DWOT = DWT[4:]\n",
    "            Dem = DWOT[:-5]\n",
    "            \n",
    "            MinorWT = lineArray[i+4]\n",
    "            MinorWT2 = MinorWT[4:]\n",
    "            Minor = MinorWT2[:-5]\n",
    "            \n",
    "            NonWT = lineArray[i+5]\n",
    "            NonWT2 = NonWT[4:]\n",
    "            Non = NonWT2[:-5]\n",
    "            \n",
    "            TotalWT = lineArray[i+6]\n",
    "            TotalWT2 = TotalWT[4:]\n",
    "            Total = TotalWT2[:-5]\n",
    "            if len(Masterlist)>0:\n",
    "                Rep = int(Rep.replace(',', ''))\n",
    "                Dem = int(Dem.replace(',', ''))\n",
    "                Minor = int(Minor.replace(',', ''))\n",
    "                Non = int(Non.replace(',', ''))\n",
    "                Total = int(Total.replace(',', ''))\n",
    "            dic = {\n",
    "                \"county\":county,\n",
    "                \"rep\":Rep,\n",
    "                \"dem\":Dem,\n",
    "                \"minor\":Minor,\n",
    "                \"none\":Non,\n",
    "                \"total\":Total\n",
    "            }\n",
    "            Masterlist.append(dic)\n",
    "    MasterList = Masterlist[1:]\n",
    "    MasterListI = []\n",
    "    MasterList2 = sorted(MasterList, key=lambda x: x[\"dem\"])\n",
    "    print \"COUNTY     REP       DEM:\"\n",
    "    print \" \"\n",
    "    for i in range(len(MasterList2)):\n",
    "        t = MasterList2[i]\n",
    "        print t[\"county\"].upper(), \" \", t[\"rep\"], \" \", t[\"dem\"]"
   ]
  },
  {
   "cell_type": "code",
   "execution_count": 53,
   "metadata": {
    "collapsed": false
   },
   "outputs": [
    {
     "name": "stdout",
     "output_type": "stream",
     "text": [
      "COUNTY     REP       DEM:\n",
      " \n",
      "LAFAYETTE   1373   2672\n",
      "GLADES   2190   3110\n",
      "LIBERTY   720   3372\n",
      "UNION   2752   3579\n",
      "GILCHRIST   5789   3652\n",
      "FRANKLIN   2234   4319\n",
      "HOLMES   5282   4434\n",
      "GULF   4234   4521\n",
      "HARDEE   4859   4702\n",
      "HAMILTON   2154   4796\n",
      "DIXIE   3314   4839\n",
      "CALHOUN   2201   5324\n",
      "WASHINGTON   7101   5687\n",
      "JEFFERSON   2636   5802\n",
      "BAKER   6963   5813\n",
      "BRADFORD   6878   6533\n",
      "TAYLOR   3950   6915\n",
      "MADISON   2992   7158\n",
      "DESOTO   4870   7181\n",
      "OKEECHOBEE   7755   7756\n",
      "HENDRY   5862   7999\n",
      "WAKULLA   7374   8889\n",
      "LEVY   11665   9509\n",
      "WALTON   25609   10013\n",
      "SUWANNEE   10745   11126\n",
      "NASSAU   32958   14013\n",
      "COLUMBIA   15790   14797\n",
      "JACKSON   9626   15706\n",
      "MONROE   20602   17614\n",
      "HIGHLANDS   27100   19997\n",
      "PUTNAM   17067   20606\n",
      "GADSDEN   4372   22161\n",
      "SUMTER   47158   22977\n",
      "FLAGLER   30047   24734\n",
      "OKALOOSA   75154   25172\n",
      "SANTA ROSA   73627   26114\n",
      "MARTIN   53800   27358\n",
      "INDIAN RIVER   47794   28204\n",
      "CITRUS   46373   30440\n",
      "BAY   57456   30733\n",
      "CLAY   76584   31285\n",
      "CHARLOTTE   54421   35602\n",
      "ST. JOHNS   88385   39531\n",
      "HERNANDO   51254   42499\n",
      "COLLIER   100167   45511\n",
      "LAKE   93604   67237\n",
      "MANATEE   96063   67926\n",
      "ESCAMBIA   90265   70180\n",
      "OSCEOLA   44594   75657\n",
      "ST. LUCIE   59626   76163\n",
      "MARION   97306   76268\n",
      "ALACHUA   47329   77996\n",
      "SARASOTA   125872   89711\n",
      "SEMINOLE   107833   91686\n",
      "LEON   54554   103140\n",
      "PASCO   125305   104324\n",
      "LEE   180718   114633\n",
      "VOLUSIA   121402   124136\n",
      "BREVARD   167129   127435\n",
      "POLK   140619   143799\n",
      "PINELLAS   223077   221968\n",
      "DUVAL   210195   229501\n",
      "ORANGE   206174   303458\n",
      "HILLSBOROUGH   257436   314265\n",
      "PALM BEACH   245452   367236\n",
      "MIAMI-DADE   362161   539367\n",
      "BROWARD   249762   566185\n",
      "TOTAL   4377713   4637026\n"
     ]
    }
   ],
   "source": [
    "# Run Program\n",
    "import urllib2\n",
    "f = urllib2.urlopen(\"http://dos.myflorida.com/elections/data-statistics/voter-registration-statistics/voter-registration-monthly-reports/voter-registration-current-by-county/\")\n",
    "readtxt(f)\n",
    "f.close()"
   ]
  },
  {
   "cell_type": "markdown",
   "metadata": {
    "slideshow": {
     "slide_type": "slide"
    }
   },
   "source": [
    "### Problem 3 - The Google of Quotes\n",
    "\n",
    "##### Approach: This section was split into functions that generally mirror the sectinos presented in the assignement instructions. We built a function to read in the file as a list of lines. From there we used a function to split each quote into a list of words and used these quotes to build a postings dictionary. After that, we used the quotes to build a reverse postings dictionary. Then we built a function to return the TD-IDF score for a given quote and word pair. We then built single and multi-word fuctions to call the TF-IFD function and return the associated values."
   ]
  },
  {
   "cell_type": "code",
   "execution_count": 38,
   "metadata": {
    "collapsed": true
   },
   "outputs": [],
   "source": [
    "def readQuotes():\n",
    "    \"\"\"This function opens up the quotes.txt file and reads it in as lines.\"\"\"\n",
    "    quotes = []\n",
    "    f = open('quotes.txt')\n",
    "    while True:\n",
    "        q = f.readline().rstrip('\\n')\n",
    "        if not q:\n",
    "            break\n",
    "        q += \" - \" + f.readline().rstrip('\\n')\n",
    "        quotes.append(q)\n",
    "    return quotes"
   ]
  },
  {
   "cell_type": "code",
   "execution_count": 39,
   "metadata": {
    "collapsed": true
   },
   "outputs": [],
   "source": [
    "def makeWords(quote):\n",
    "    \"\"\"Split up sentence into words, make them lowercase and remove all punctuation using string module\"\"\"\n",
    "    import string\n",
    "    words = quote.lower().translate(string.maketrans(\"\",\"\"), string.punctuation).split()\n",
    "    return words"
   ]
  },
  {
   "cell_type": "code",
   "execution_count": 40,
   "metadata": {
    "collapsed": true
   },
   "outputs": [],
   "source": [
    "def makePostingsDic(quotes):\n",
    "    \"\"\"This function takes a list of quotes, and returns a dictionary of quotes ask keys. The value for each quote is a dictionary that contains words in the quote and their count.\"\"\"\n",
    "    postingsDic = {}\n",
    "    for quote in quotes:\n",
    "        wordsDic = {}\n",
    "        words = makeWords(quote)\n",
    "        for word in words:\n",
    "            if word in wordsDic:\n",
    "                wordsDic[word] += 1\n",
    "            else:\n",
    "                wordsDic[word] = 1\n",
    "        postingsDic[quote] = wordsDic\n",
    "    return postingsDic"
   ]
  },
  {
   "cell_type": "code",
   "execution_count": 41,
   "metadata": {
    "collapsed": true
   },
   "outputs": [],
   "source": [
    "def makeReverseDic(quotes):\n",
    "    \"\"\"This function takes a list of quotes and returns a dictionary of words as keys. Each word's value is a dictionary of quotes that can contain the word as keys and their count as values.\"\"\"\n",
    "    reverseDic = {}\n",
    "    allWordsList = []\n",
    "    for quote in quotes:\n",
    "        words = makeWords(quote)\n",
    "        for word in words:\n",
    "            if word in reverseDic:\n",
    "                reverseDic[word] += 1\n",
    "            else:\n",
    "                reverseDic[word] = 1\n",
    "    for i in reverseDic:\n",
    "        allWordsList.append(i)\n",
    "    reverseDic = {}\n",
    "    for word in allWordsList:\n",
    "        reverseDic[word] = 0\n",
    "    \n",
    "    for word in reverseDic:\n",
    "        throwAway = {}\n",
    "        for quote in quotes:\n",
    "            quoteWords = makeWords(quote)\n",
    "            for quoteWord in quoteWords:\n",
    "                if word == quoteWord:\n",
    "                    if quote in throwAway:\n",
    "                        throwAway[quote] += 1\n",
    "                    else:\n",
    "                        throwAway[quote] = 1\n",
    "        reverseDic[word] = throwAway\n",
    "    return reverseDic"
   ]
  },
  {
   "cell_type": "code",
   "execution_count": 42,
   "metadata": {
    "collapsed": true
   },
   "outputs": [],
   "source": [
    "def computeTFIDF(w, q):\n",
    "    \"\"\"This function takes a word and a quote, and returns their associated TF-IDF score.\"\"\"\n",
    "    import math\n",
    "    words = makeWords(q)\n",
    "    countDic = {}\n",
    "    for word in words:\n",
    "        if word in countDic:\n",
    "            countDic[word] += 1\n",
    "        else:\n",
    "            countDic[word] = 1\n",
    "    maxCount = max(countDic.values())\n",
    "    wCount = countDic[w]\n",
    "    TF = wCount * 1.0 / maxCount * 1.0\n",
    "    IDF = math.log((len(postingsDic) * 1.0) / (len(reverseDic[w]) * 1.0))\n",
    "    return TF * IDF"
   ]
  },
  {
   "cell_type": "code",
   "execution_count": 43,
   "metadata": {
    "collapsed": true
   },
   "outputs": [],
   "source": [
    "def quoteSearchSingle(w):\n",
    "    \"\"\"This function takes a word and returns a dictionary of quotes containing that word as keys and the associated TF-IDF score for each word and quote.\"\"\"\n",
    "    inQuoteList = []\n",
    "    searchDic = {}\n",
    "    for quote in postingsDic:\n",
    "        if w in makeWords(quote):\n",
    "            inQuoteList.append(quote)\n",
    "    for q in inQuoteList:\n",
    "        searchDic[q] = computeTFIDF(w, q)\n",
    "    return searchDic"
   ]
  },
  {
   "cell_type": "code",
   "execution_count": 45,
   "metadata": {
    "collapsed": true
   },
   "outputs": [],
   "source": [
    "def quoteSearchMultiple(wList):\n",
    "    \"\"\"this functino takes a list of words, and returns a dictionary of quotes that contain those words and the sum of the TF-IDF scores for each word and quote.\"\"\"\n",
    "    searchDic = {}\n",
    "    for w in wList:\n",
    "        inQuoteList = []\n",
    "        for quote in postingsDic:\n",
    "            if w in makeWords(quote):\n",
    "                inQuoteList.append(quote)\n",
    "        for q in inQuoteList:\n",
    "            if q in searchDic:\n",
    "                searchDic[q] += computeTFIDF(w,q)\n",
    "            else:\n",
    "                searchDic[q] = computeTFIDF(w,q)\n",
    "    return searchDic"
   ]
  },
  {
   "cell_type": "code",
   "execution_count": 46,
   "metadata": {
    "collapsed": true
   },
   "outputs": [],
   "source": [
    "\"\"\"NEED TO ADD EXAMPLES OF RUNNING PROGRAM FOR SINGLE & MULTIPLE WORDS\"\"\"\n",
    "quotes = readQuotes()\n",
    "postingsDic = makePostingsDic(quotes)\n",
    "reverseDic = makeReverseDic(quotes)"
   ]
  },
  {
   "cell_type": "code",
   "execution_count": 48,
   "metadata": {
    "collapsed": false
   },
   "outputs": [
    {
     "data": {
      "text/plain": [
       "{'A typical vice of American politics is the avoidance of saying anything real on real issues. - Theodore Roosevelt': 2.420403400774884,\n",
       " 'In politics shared hatreds are almost always the basis of friendships. - Alexis de Tocqueville': 4.840806801549768,\n",
       " 'In politics, an organized minority is a political majority. - Jesse Jackson': 4.840806801549768,\n",
       " 'In politics, if you want anything said, ask a man; if you want anything done, ask a woman. - Margaret Thatcher': 2.420403400774884,\n",
       " 'PRESIDENCY, n. The greased pig in the field game of American politics. - Ambrose Bierce': 2.420403400774884,\n",
       " 'Politics has got so expensive that it takes lots of money to even get beat with. - Will Rogers': 4.840806801549768,\n",
       " 'Politics is perhaps the only profession for which no preparation is thought necessary. - Robert Louis Stevenson': 2.420403400774884}"
      ]
     },
     "execution_count": 48,
     "metadata": {},
     "output_type": "execute_result"
    }
   ],
   "source": [
    "quoteSearchSingle('politics')"
   ]
  },
  {
   "cell_type": "code",
   "execution_count": 51,
   "metadata": {
    "collapsed": false
   },
   "outputs": [
    {
     "data": {
      "text/plain": [
       "{'A typical vice of American politics is the avoidance of saying anything real on real issues. - Theodore Roosevelt': 2.420403400774884,\n",
       " 'In politics shared hatreds are almost always the basis of friendships. - Alexis de Tocqueville': 4.840806801549768,\n",
       " 'In politics, an organized minority is a political majority. - Jesse Jackson': 4.840806801549768,\n",
       " 'In politics, if you want anything said, ask a man; if you want anything done, ask a woman. - Margaret Thatcher': 2.420403400774884,\n",
       " 'Nobody can have the consolations of religion or philosophy unless he has first experienced their desolations. - Aldous Huxley': 4.484131857611035,\n",
       " 'PRESIDENCY, n. The greased pig in the field game of American politics. - Ambrose Bierce': 2.420403400774884,\n",
       " 'Philosophy is questions that may never be answered. Religion is answers that may never be questioned. - Author Unknown': 2.2420659288055176,\n",
       " 'Politics has got so expensive that it takes lots of money to even get beat with. - Will Rogers': 4.840806801549768,\n",
       " 'Politics is perhaps the only profession for which no preparation is thought necessary. - Robert Louis Stevenson': 2.420403400774884,\n",
       " 'Religion operates not only on the vertical plane but also on the horizontal. It seeks not only to integrate men with God but to integrate men with men and each man with himself. - Martin Luther King Jr.': 1.4947106192036783,\n",
       " 'Religion to me has always been the wound, not the bandage. - Dennis Potter': 2.2420659288055176,\n",
       " 'Science without religion is lame, religion without science is blind. - Albert Einstein': 4.484131857611035,\n",
       " 'The Bible is not my book, and Christianity is not my religion. I could never give assent to the long, complicated statements of Christian dogma. - Abraham Lincoln': 2.2420659288055176,\n",
       " 'Theology is only thought applied to religion. - GK Chesterton': 4.484131857611035,\n",
       " 'We know too much, and are convinced of too little. Our literature is a substitute for religion, and so is our religion. - T.S. Eliot': 4.484131857611035,\n",
       " 'We must repsect the other fellow`s religion, but only in the sense and to the extent that we respect his theory that his wife is beautiful and his children are smart. - Henry Mencken': 1.4947106192036783,\n",
       " 'Where knowledge ends, religion begins. - Benjamin Disraeli': 4.484131857611035}"
      ]
     },
     "execution_count": 51,
     "metadata": {},
     "output_type": "execute_result"
    }
   ],
   "source": [
    "quoteSearchMultiple(['politics','religion'])"
   ]
  },
  {
   "cell_type": "code",
   "execution_count": null,
   "metadata": {
    "collapsed": true
   },
   "outputs": [],
   "source": []
  }
 ],
 "metadata": {
  "celltoolbar": "Slideshow",
  "kernelspec": {
   "display_name": "Python 2",
   "language": "python",
   "name": "python2"
  },
  "language_info": {
   "codemirror_mode": {
    "name": "ipython",
    "version": 2
   },
   "file_extension": ".py",
   "mimetype": "text/x-python",
   "name": "python",
   "nbconvert_exporter": "python",
   "pygments_lexer": "ipython2",
   "version": "2.7.11"
  }
 },
 "nbformat": 4,
 "nbformat_minor": 0
}

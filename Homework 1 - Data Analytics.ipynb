{
 "cells": [
  {
   "cell_type": "code",
   "execution_count": null,
   "metadata": {
    "collapsed": true
   },
   "outputs": [],
   "source": [
    "#Problem 1"
   ]
  },
  {
   "cell_type": "code",
   "execution_count": null,
   "metadata": {
    "collapsed": true
   },
   "outputs": [],
   "source": [
    "#Problem 2"
   ]
  },
  {
   "cell_type": "code",
   "execution_count": null,
   "metadata": {
    "collapsed": true
   },
   "outputs": [],
   "source": [
    "#Problem 3"
   ]
  },
  {
   "cell_type": "code",
   "execution_count": 1,
   "metadata": {
    "collapsed": false
   },
   "outputs": [],
   "source": [
    "quote_import = open('quotes.txt').read().splitlines()\n",
    "\n",
    "quotes = []\n",
    "speakers = []\n",
    "\n",
    "for indx, line in enumerate(quote_import):\n",
    "    if indx%2 == 0:\n",
    "        quotes.append(line)\n",
    "    else:\n",
    "        speakers.append(line)\n",
    "\n",
    "quote_list = zip(quotes,speakers)\n",
    "\n",
    "quote_list_format = []\n",
    "\n",
    "for x in quote_list:\n",
    "    quote_list_format.append(\"{} - {}\".format(x[0],x[1]))\n",
    "    \n",
    "#print quote_list_format"
   ]
  },
  {
   "cell_type": "code",
   "execution_count": 2,
   "metadata": {
    "collapsed": false
   },
   "outputs": [],
   "source": [
    "import string\n",
    "\n",
    "def words_from_quote(quote):\n",
    "    return quote.lower().translate(string.maketrans(\"\",\"\"), string.punctuation).split()\n",
    "    \n",
    "#print words_from_quote(\"I eat; Spaghetti!\")"
   ]
  },
  {
   "cell_type": "code",
   "execution_count": 3,
   "metadata": {
    "collapsed": false
   },
   "outputs": [
    {
     "ename": "IndentationError",
     "evalue": "expected an indented block (<ipython-input-3-a1802406dc03>, line 6)",
     "output_type": "error",
     "traceback": [
      "\u001b[1;36m  File \u001b[1;32m\"<ipython-input-3-a1802406dc03>\"\u001b[1;36m, line \u001b[1;32m6\u001b[0m\n\u001b[1;33m    \u001b[0m\n\u001b[1;37m    ^\u001b[0m\n\u001b[1;31mIndentationError\u001b[0m\u001b[1;31m:\u001b[0m expected an indented block\n"
     ]
    }
   ],
   "source": [
    "def create_postings_list_dict(quotes):\n",
    "    postings_list_dict = {}\n",
    "    for q in quotes:\n",
    "        word_breakdown = words_from_quote(q)\n",
    "        for w in word_breakdown:\n",
    "            "
   ]
  },
  {
   "cell_type": "code",
   "execution_count": null,
   "metadata": {
    "collapsed": true
   },
   "outputs": [],
   "source": []
  }
 ],
 "metadata": {
  "kernelspec": {
   "display_name": "Python 2",
   "language": "python",
   "name": "python2"
  },
  "language_info": {
   "codemirror_mode": {
    "name": "ipython",
    "version": 2
   },
   "file_extension": ".py",
   "mimetype": "text/x-python",
   "name": "python",
   "nbconvert_exporter": "python",
   "pygments_lexer": "ipython2",
   "version": "2.7.11"
  }
 },
 "nbformat": 4,
 "nbformat_minor": 0
}

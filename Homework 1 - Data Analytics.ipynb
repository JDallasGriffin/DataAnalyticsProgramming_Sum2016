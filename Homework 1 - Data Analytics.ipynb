{
 "cells": [
  {
   "cell_type": "code",
   "execution_count": null,
   "metadata": {
    "collapsed": true
   },
   "outputs": [],
   "source": [
    "#Problem 1"
   ]
  },
  {
   "cell_type": "code",
   "execution_count": null,
   "metadata": {
    "collapsed": true
   },
   "outputs": [],
   "source": [
    "#Problem 2"
   ]
  },
  {
   "cell_type": "code",
   "execution_count": null,
   "metadata": {
    "collapsed": true
   },
   "outputs": [],
   "source": [
    "#Problem 3"
   ]
  },
  {
   "cell_type": "code",
   "execution_count": 1,
   "metadata": {
    "collapsed": false
   },
   "outputs": [],
   "source": [
    "quote_import = open('quotes.txt').read().splitlines()\n",
    "\n",
    "quotes = []\n",
    "speakers = []\n",
    "\n",
    "for indx, line in enumerate(quote_import):\n",
    "    if indx%2 == 0:\n",
    "        quotes.append(line)\n",
    "    else:\n",
    "        speakers.append(line)\n",
    "\n",
    "quote_list = zip(quotes,speakers)\n",
    "\n",
    "quote_list_format = []\n",
    "\n",
    "for x in quote_list:\n",
    "    quote_list_format.append(\"{} - {}\".format(x[0],x[1]))\n",
    "    \n",
    "#print quote_list_format"
   ]
  },
  {
   "cell_type": "code",
   "execution_count": 2,
   "metadata": {
    "collapsed": false
   },
   "outputs": [],
   "source": [
    "import string\n",
    "\n",
    "def words_from_quote(quote):\n",
    "    return quote.lower().translate(string.maketrans(\"\",\"\"), string.punctuation).split()\n",
    "    \n",
    "#print words_from_quote(\"I eat; Spaghetti!\")"
   ]
  },
  {
   "cell_type": "code",
   "execution_count": 3,
   "metadata": {
    "collapsed": false
   },
   "outputs": [
    {
     "ename": "IndentationError",
     "evalue": "expected an indented block (<ipython-input-3-a1802406dc03>, line 6)",
     "output_type": "error",
     "traceback": [
      "\u001b[1;36m  File \u001b[1;32m\"<ipython-input-3-a1802406dc03>\"\u001b[1;36m, line \u001b[1;32m6\u001b[0m\n\u001b[1;33m    \u001b[0m\n\u001b[1;37m    ^\u001b[0m\n\u001b[1;31mIndentationError\u001b[0m\u001b[1;31m:\u001b[0m expected an indented block\n"
     ]
    }
   ],
   "source": [
    "def create_postings_list_dict(quotes):\n",
    "    postings_list_dict = {}\n",
    "    for q in quotes:\n",
    "        word_breakdown = words_from_quote(q)\n",
    "        for w in word_breakdown:\n",
    "            "
   ]
  },
  {
   "cell_type": "code",
   "execution_count": null,
   "metadata": {
    "collapsed": true
   },
   "outputs": [],
   "source": []
  }
 ],
 "metadata": {
  "kernelspec": {
   "display_name": "Python 2",
   "language": "python",
   "name": "python2"
  },
  "language_info": {
   "codemirror_mode": {
    "name": "ipython",
    "version": 2
   },
   "file_extension": ".py",
   "mimetype": "text/x-python",
   "name": "python",
   "nbconvert_exporter": "python",
   "pygments_lexer": "ipython2",
   "version": "2.7.11"
  }
 },
 "nbformat": 4,
 "nbformat_minor": 0
}

# Problem 2)

fil = open('C:\\Users\\Sean\\Desktop\\MSBA\\MIS_Summer\\FloridaVoters.txt','r+')

def readtxt(fil):
    from operator import itemgetter
    text = fil.read()
    lineArray = text.split("\n")
    Masterlist = []
    for i in range(len(lineArray)):
        if lineArray[i] == "<tr>":
            dic ={}
            countyWithTag = lineArray[i+1]
            countyWithoutTD = countyWithTag[4:]
            county = countyWithoutTD[:-5]
            
            RepWithTag = lineArray[i+2]
            RepWithoutTD = RepWithTag[4:]
            Rep = RepWithoutTD[:-5]
            
            DWT = lineArray[i+3]
            DWOT = DWT[4:]
            Dem = DWOT[:-5]
            
            MinorWT = lineArray[i+4]
            MinorWT2 = MinorWT[4:]
            Minor = MinorWT2[:-5]
            
            NonWT = lineArray[i+5]
            NonWT2 = NonWT[4:]
            Non = NonWT2[:-5]
            
            TotalWT = lineArray[i+6]
            TotalWT2 = TotalWT[4:]
            Total = TotalWT2[:-5]
            if len(Masterlist)>0:
                Rep = int(Rep.replace(',', ''))
                Dem = int(Dem.replace(',', ''))
                Minor = int(Minor.replace(',', ''))
                Non = int(Non.replace(',', ''))
                Total = int(Total.replace(',', ''))
            dic = {
                "county":county,
                "rep":Rep,
                "dem":Dem,
                "minor":Minor,
                "none":Non,
                "total":Total
            }
            Masterlist.append(dic)
    MasterList = Masterlist[1:]
    MasterListI = []
    MasterList2 = sorted(MasterList, key=itemgetter('dem'))
    print "COUNTY     REP       DEM:"
    print " "
    for i in range(len(MasterList2)):
        t = MasterList2[i]
        print t["county"].upper(), " ", t["rep"], " ", t["dem"]


readtxt(fil)
fil.close()
    

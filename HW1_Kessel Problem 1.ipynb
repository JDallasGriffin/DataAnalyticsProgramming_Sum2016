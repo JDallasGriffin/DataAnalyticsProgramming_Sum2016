{
 "cells": [
  {
   "cell_type": "code",
   "execution_count": null,
   "metadata": {
    "collapsed": true
   },
   "outputs": [],
   "source": [
    "# PROBLEM 1: ROCK PAPER SCISSORS"
   ]
  },
  {
   "cell_type": "code",
   "execution_count": 1,
   "metadata": {
    "collapsed": false
   },
   "outputs": [],
   "source": [
    "def human_choice():\n",
    "    \"\"\"\n",
    "    Asks the user to input a choice of rock, paper, scissors, or quit.\n",
    "    Returns the result.\n",
    "    \"\"\"\n",
    "    choice = str(raw_input(\"Please type your choice of Rock, Paper, Scissors or Quit: \"))\n",
    "    cl = choice.lower()\n",
    "    while cl != \"rock\" and cl!= \"paper\" and cl!= \"scissors\" and cl!= \"quit\":\n",
    "        choice = str(raw_input(\"Please type your choice of Rock, Paper, Scissors or Quit: \"))\n",
    "        cl = choice.lower()\n",
    "    return cl"
   ]
  },
  {
   "cell_type": "code",
   "execution_count": 2,
   "metadata": {
    "collapsed": false
   },
   "outputs": [],
   "source": [
    "def most_common(past):\n",
    "    '''\n",
    "    Given an input of an array, this function will return the most common value in that array.\n",
    "    For example: most_common([\"rock\",\"rock\",\"scissors\",\"paper\")) == \"rock\"\n",
    "    '''\n",
    "    if len(past)==0:\n",
    "        return \"first\"\n",
    "    else:\n",
    "        rock_count = 0\n",
    "        paper_count = 0\n",
    "        scissors_count = 0\n",
    "        for i in past:\n",
    "            if i == \"rock\":\n",
    "                rock_count += 1\n",
    "            elif i == \"paper\":\n",
    "                paper_count += 1\n",
    "            elif i == \"scissors\":\n",
    "                scissors_count += 1\n",
    "        st = []\n",
    "        if rock_count >= scissors_count and rock_count >= paper_count :\n",
    "            st.append(\"rock\")\n",
    "        if paper_count >= scissors_count and rock_count <= paper_count:\n",
    "            st.append(\"paper\")\n",
    "        if scissors_count >= rock_count and scissors_count >= paper_count:\n",
    "            st.append(\"scissors\")\n",
    "        return st\n"
   ]
  },
  {
   "cell_type": "markdown",
   "metadata": {},
   "source": [
    "import random\n",
    "def computer_choose(past_human_choices):\n",
    "    choices = [\"Rock\",\"Paper\",\"Scissors\"]\n",
    "    if length(past_human_choices)== 0:\n",
    "        ind = random.randint(0,2)\n",
    "        return choices[ind]\n",
    "    else:\n",
    "        t = most_common(past_human_choices)\n",
    "        ind = random.randint(0,length(t))\n",
    "        return t[ind]"
   ]
  },
  {
   "cell_type": "code",
   "execution_count": 3,
   "metadata": {
    "collapsed": false
   },
   "outputs": [],
   "source": [
    "import random\n",
    "def computer_choice(past):\n",
    "    '''\n",
    "    Given an input of the past choices made, the computer will return the option that will beat the most common choice.\n",
    "    If there are two or more most common choices, the computer returns a random choice between those options.\n",
    "    If this is the first game, the computer returns a random guess.\n",
    "    '''\n",
    "    common = most_common(past)\n",
    "    choices = [\"rock\",\"paper\",\"scissors\"]\n",
    "    if len(common) == 1:\n",
    "        if common[0] == \"first\":\n",
    "            t = random.randint(0,2)\n",
    "            return choices[t]\n",
    "        else:\n",
    "            c = common[0]\n",
    "            if c == \"paper\":\n",
    "                return \"scissors\"\n",
    "            elif c == \"rock\":\n",
    "                return \"paper\"\n",
    "            elif c == \"scissors\":\n",
    "                return \"rock\"\n",
    "    else:\n",
    "        y = len(common)\n",
    "        x = random.randint(0,y-1)\n",
    "        c = common[x]\n",
    "        if c == \"paper\":\n",
    "            return \"scissors\"\n",
    "        elif c == \"rock\":\n",
    "            return \"paper\"\n",
    "        elif c == \"scissors\":\n",
    "            return \"rock\"\n",
    "    "
   ]
  },
  {
   "cell_type": "code",
   "execution_count": 4,
   "metadata": {
    "collapsed": true
   },
   "outputs": [],
   "source": [
    "def compare(human,computer):\n",
    "    '''\n",
    "    Returns 0 if the computer wins, 1 if the human wins, 2 if there is a draw.\n",
    "    '''\n",
    "    if human == \"rock\":\n",
    "        if computer == \"paper\":\n",
    "            return 0 \n",
    "        elif computer == \"rock\":\n",
    "            return 2\n",
    "        elif computer == \"scissors\":\n",
    "            return 1\n",
    "    elif human == \"paper\":\n",
    "        if computer == \"paper\":\n",
    "            return 2 \n",
    "        elif computer == \"rock\":\n",
    "            return 1\n",
    "        elif computer == \"scissors\":\n",
    "            return 0\n",
    "    elif human == \"scissors\":\n",
    "        if computer == \"paper\":\n",
    "            return 1 \n",
    "        elif computer == \"rock\":\n",
    "            return 0\n",
    "        elif computer == \"scissors\":\n",
    "            return 2\n"
   ]
  },
  {
   "cell_type": "code",
   "execution_count": 5,
   "metadata": {
    "collapsed": false
   },
   "outputs": [],
   "source": [
    "def lets_play():\n",
    "    '''\n",
    "    The main function used to initiate and carry through gameplay.\n",
    "    '''\n",
    "    past_human_choices =[]\n",
    "    games_played = 0\n",
    "    human_wins = 0\n",
    "    while True:\n",
    "        human = human_choice()\n",
    "        if human == \"quit\":\n",
    "            print \"You played \", games_played, \" games\"\n",
    "            print \"You won \", human_wins, \" games\"\n",
    "            break\n",
    "        else:\n",
    "            games_played += 1\n",
    "            past_human_choices.append(human)\n",
    "            computer = computer_choice(past_human_choices)\n",
    "            y = compare(human, computer)\n",
    "            print \"The computer chose \", computer\n",
    "            if y == 1:\n",
    "                human_wins += 1\n",
    "                print \"You win\"\n",
    "            elif y == 0:\n",
    "                print \"You lose\"\n",
    "            elif y ==2:\n",
    "                print \"It seems we have a draw\"\n",
    "       "
   ]
  },
  {
   "cell_type": "code",
   "execution_count": 6,
   "metadata": {
    "collapsed": false
   },
   "outputs": [
    {
     "name": "stdout",
     "output_type": "stream",
     "text": [
      "Please type your choice of Rock, Paper, Scissors or Quit: rock\n",
      "The computer chose  paper\n",
      "You lose\n",
      "Please type your choice of Rock, Paper, Scissors or Quit: rock\n",
      "The computer chose  paper\n",
      "You lose\n",
      "Please type your choice of Rock, Paper, Scissors or Quit: rock\n",
      "The computer chose  paper\n",
      "You lose\n",
      "Please type your choice of Rock, Paper, Scissors or Quit: rock\n",
      "The computer chose  paper\n",
      "You lose\n",
      "Please type your choice of Rock, Paper, Scissors or Quit: paper\n",
      "The computer chose  paper\n",
      "It seems we have a draw\n",
      "Please type your choice of Rock, Paper, Scissors or Quit: scissors\n",
      "The computer chose  paper\n",
      "You win\n",
      "Please type your choice of Rock, Paper, Scissors or Quit: paper\n",
      "The computer chose  paper\n",
      "It seems we have a draw\n",
      "Please type your choice of Rock, Paper, Scissors or Quit: rock\n",
      "The computer chose  paper\n",
      "You lose\n",
      "Please type your choice of Rock, Paper, Scissors or Quit: paper\n",
      "The computer chose  paper\n",
      "It seems we have a draw\n",
      "Please type your choice of Rock, Paper, Scissors or Quit: scissors\n",
      "The computer chose  paper\n",
      "You win\n",
      "Please type your choice of Rock, Paper, Scissors or Quit: rock\n",
      "The computer chose  paper\n",
      "You lose\n",
      "Please type your choice of Rock, Paper, Scissors or Quit: paper\n",
      "The computer chose  paper\n",
      "It seems we have a draw\n",
      "Please type your choice of Rock, Paper, Scissors or Quit: rock\n",
      "The computer chose  paper\n",
      "You lose\n",
      "Please type your choice of Rock, Paper, Scissors or Quit: scissors\n",
      "The computer chose  paper\n",
      "You win\n",
      "Please type your choice of Rock, Paper, Scissors or Quit: rock\n",
      "The computer chose  paper\n",
      "You lose\n",
      "Please type your choice of Rock, Paper, Scissors or Quit: paper\n",
      "The computer chose  paper\n",
      "It seems we have a draw\n",
      "Please type your choice of Rock, Paper, Scissors or Quit: paper\n",
      "The computer chose  paper\n",
      "It seems we have a draw\n",
      "Please type your choice of Rock, Paper, Scissors or Quit: paper\n",
      "The computer chose  paper\n",
      "It seems we have a draw\n",
      "Please type your choice of Rock, Paper, Scissors or Quit: rock\n",
      "The computer chose  paper\n",
      "You lose\n",
      "Please type your choice of Rock, Paper, Scissors or Quit: quit\n",
      "You played  19  games\n",
      "You won  3  games\n"
     ]
    }
   ],
   "source": [
    "lets_play()"
   ]
  }
 ],
 "metadata": {
  "kernelspec": {
   "display_name": "Python 2",
   "language": "python",
   "name": "python2"
  },
  "language_info": {
   "codemirror_mode": {
    "name": "ipython",
    "version": 2
   },
   "file_extension": ".py",
   "mimetype": "text/x-python",
   "name": "python",
   "nbconvert_exporter": "python",
   "pygments_lexer": "ipython2",
   "version": "2.7.11"
  }
 },
 "nbformat": 4,
 "nbformat_minor": 0
}
